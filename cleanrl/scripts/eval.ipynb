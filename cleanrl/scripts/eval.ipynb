{
 "cells": [
  {
   "cell_type": "code",
   "execution_count": 1,
   "metadata": {},
   "outputs": [],
   "source": [
    "import os\n",
    "import sys\n",
    "import tyro\n",
    "import time\n",
    "import random\n",
    "import warnings\n",
    "\n",
    "import numpy as np\n",
    "import torch\n",
    "\n",
    "oc_atari_dir = os.getenv(\"OC_ATARI_DIR\")\n",
    "\n",
    "if oc_atari_dir is not None:\n",
    "    a = os.path.join(Path(__file__), oc_atari_dir)\n",
    "    sys.path.insert(1, a)\n",
    "\n",
    "sys.path.append(\"..\")\n",
    "has_agent= False"
   ]
  },
  {
   "cell_type": "code",
   "execution_count": 2,
   "metadata": {},
   "outputs": [],
   "source": [
    "env_id = \"ALE/Pong-v5\"\n",
    "obs_mode = \"obj\"\n",
    "pth = \"/data/oc_cleanrl/cleanrl/wandb/run-20241010_060604-pzk9e36i/files/DQNLv2.cleanrl_model\"\n",
    "architecture = \"DQNLv2\"\n",
    "device = torch.device(\"cuda\" if torch.cuda.is_available() else \"cpu\")\n",
    "    "
   ]
  },
  {
   "cell_type": "code",
   "execution_count": 14,
   "metadata": {},
   "outputs": [
    {
     "name": "stdout",
     "output_type": "stream",
     "text": [
      "Using OBJ State Representation\n"
     ]
    }
   ],
   "source": [
    "from ocatari.core import OCAtari\n",
    "env = OCAtari(\n",
    "    env_id, hud=False, render_mode=\"rgb_array\",\n",
    "        render_oc_overlay=False, obs_mode=obs_mode, \n",
    "        # logger=logger, feature_func=feature_func,\n",
    "        # buffer_window_size=window_size\n",
    ")\n",
    "\n",
    "obs, info = env.reset()"
   ]
  },
  {
   "cell_type": "code",
   "execution_count": 15,
   "metadata": {},
   "outputs": [],
   "source": [
    "if architecture == \"OCT\":\n",
    "    from architectures.transformer import OCTransformer as Agent\n",
    "    agent = Agent(env, emb_dim, num_heads, num_blocks, device).to(device)\n",
    "elif architecture == \"VIT\":\n",
    "    from architectures.transformer import VIT as Agent\n",
    "    agent = Agent(env, emb_dim, num_heads, num_blocks,\n",
    "                    patch_size, buffer_window_size, device).to(device)\n",
    "elif architecture == \"VIT2\":\n",
    "    from architectures.transformer import SimpleViT2 as Agent\n",
    "    agent = Agent(env, emb_dim, num_heads, num_blocks,\n",
    "                    patch_size, buffer_window_size, device).to(device)\n",
    "elif architecture == \"MobileVit\":\n",
    "    from architectures.transformer import MobileVIT as Agent\n",
    "    agent = Agent(env, emb_dim, num_heads, num_blocks,\n",
    "                    patch_size, buffer_window_size, device).to(device)\n",
    "elif architecture == \"MobileVit2\":\n",
    "    from architectures.transformer import MobileViT2 as Agent\n",
    "    agent = Agent(env, emb_dim, num_heads, num_blocks,\n",
    "                    patch_size, buffer_window_size, device).to(device)\n",
    "elif architecture == \"PPO\":\n",
    "    from architectures.ppo import PPODefault as Agent\n",
    "    agent = Agent(env, device).to(device)\n",
    "else:\n",
    "    from architectures.ppo import PPO_Obj as Agent\n",
    "    agent = Agent(env, device).to(device)\n"
   ]
  },
  {
   "cell_type": "code",
   "execution_count": 16,
   "metadata": {},
   "outputs": [],
   "source": [
    "ckpt = torch.load(pth, map_location=torch.device('cpu'))\n",
    "agent.load_state_dict(ckpt[\"model_weights\"]) \n",
    "has_agent = True "
   ]
  },
  {
   "cell_type": "code",
   "execution_count": 17,
   "metadata": {},
   "outputs": [],
   "source": [
    "import numpy as np\n",
    "import matplotlib.pyplot as plt\n",
    "def print_obs(obs):\n",
    "    \n",
    "    # Display the array as an image\n",
    "    plt.imshow(obs, cmap='gray')  # Use 'gray' colormap for 2D arrays\n",
    "    plt.axis('off')\n",
    "    plt.show()  "
   ]
  },
  {
   "cell_type": "code",
   "execution_count": 18,
   "metadata": {},
   "outputs": [
    {
     "name": "stdout",
     "output_type": "stream",
     "text": [
      "{'lives': 0, 'episode_frame_number': 18270, 'frame_number': 18270}\n",
      "4568\n",
      "ALE/Pong-v5: Reward: 7.0, Length: 18270 Episode: 0\n",
      "{'lives': 0, 'episode_frame_number': 12401, 'frame_number': 30671}\n",
      "3101\n",
      "ALE/Pong-v5: Reward: 17.0, Length: 12401 Episode: 1\n",
      "{'lives': 0, 'episode_frame_number': 13878, 'frame_number': 44549}\n",
      "3470\n",
      "ALE/Pong-v5: Reward: 9.0, Length: 13878 Episode: 2\n"
     ]
    },
    {
     "ename": "KeyboardInterrupt",
     "evalue": "",
     "output_type": "error",
     "traceback": [
      "\u001b[0;31m---------------------------------------------------------------------------\u001b[0m",
      "\u001b[0;31mKeyboardInterrupt\u001b[0m                         Traceback (most recent call last)",
      "Cell \u001b[0;32mIn[18], line 11\u001b[0m\n\u001b[1;32m      9\u001b[0m     obs \u001b[38;5;241m=\u001b[39m torch\u001b[38;5;241m.\u001b[39mfrom_numpy(obs)\u001b[38;5;241m.\u001b[39mto(device)\n\u001b[1;32m     10\u001b[0m     obs \u001b[38;5;241m=\u001b[39m obs\u001b[38;5;241m.\u001b[39munsqueeze(\u001b[38;5;241m0\u001b[39m)\n\u001b[0;32m---> 11\u001b[0m     action, _, _, _ \u001b[38;5;241m=\u001b[39m \u001b[43magent\u001b[49m\u001b[38;5;241;43m.\u001b[39;49m\u001b[43mget_action_and_value\u001b[49m\u001b[43m(\u001b[49m\u001b[43mobs\u001b[49m\u001b[43m)\u001b[49m\n\u001b[1;32m     12\u001b[0m \u001b[38;5;28;01melse\u001b[39;00m:\n\u001b[1;32m     13\u001b[0m     action \u001b[38;5;241m=\u001b[39m env\u001b[38;5;241m.\u001b[39maction_space\u001b[38;5;241m.\u001b[39msample() \u001b[38;5;66;03m# random moves\u001b[39;00m\n",
      "File \u001b[0;32m/data/oc_cleanrl/cleanrl/scripts/../architectures/ppo.py:108\u001b[0m, in \u001b[0;36mPPO_Obj.get_action_and_value\u001b[0;34m(self, x, action)\u001b[0m\n\u001b[1;32m    106\u001b[0m \u001b[38;5;28;01mif\u001b[39;00m action \u001b[38;5;129;01mis\u001b[39;00m \u001b[38;5;28;01mNone\u001b[39;00m:\n\u001b[1;32m    107\u001b[0m     action \u001b[38;5;241m=\u001b[39m probs\u001b[38;5;241m.\u001b[39msample()\n\u001b[0;32m--> 108\u001b[0m \u001b[38;5;28;01mreturn\u001b[39;00m action, probs\u001b[38;5;241m.\u001b[39mlog_prob(action), \u001b[43mprobs\u001b[49m\u001b[38;5;241;43m.\u001b[39;49m\u001b[43mentropy\u001b[49m\u001b[43m(\u001b[49m\u001b[43m)\u001b[49m, \u001b[38;5;28mself\u001b[39m\u001b[38;5;241m.\u001b[39mcritic(hidden)\n",
      "\u001b[0;31mKeyboardInterrupt\u001b[0m: "
     ]
    }
   ],
   "source": [
    "episode_rewards = []\n",
    "\n",
    "for i in range(21):\n",
    "    done = False\n",
    "    crew = 0\n",
    "    j = 0\n",
    "    while not done:\n",
    "        if has_agent:\n",
    "            obs = torch.from_numpy(obs).to(device)\n",
    "            obs = obs.unsqueeze(0)\n",
    "            action, _, _, _ = agent.get_action_and_value(obs)\n",
    "        else:\n",
    "            action = env.action_space.sample() # random moves\n",
    "        \n",
    "        obs, reward, terminated, truncated, info = env.step(action)\n",
    "        crew += reward\n",
    "        j += 1\n",
    "        \n",
    "        if terminated or truncated:\n",
    "            print(f\"{env_id}: Reward: {crew}, Framses:\", info[\"episode_frame_number\"], f\"w/o Frameskip: {j}, Episode: {i}\")\n",
    "            #run.log({f\"{opts.game}_reward\": crew, f\"{opts.game}_episode_length\": info[\"episode_frame_number\"]})\n",
    "            observation, info = env.reset()\n",
    "            done = True\n",
    "            episode_rewards.append(crew)\n",
    "\n",
    "print()\n",
    "mean_reward = np.mean(episode_rewards)\n",
    "std_reward = np.std(episode_rewards)\n",
    "\n",
    "print(f\"{mean_reward} +- {std_reward}\")\n",
    "env.close()"
   ]
  },
  {
   "cell_type": "code",
   "execution_count": null,
   "metadata": {},
   "outputs": [],
   "source": []
  }
 ],
 "metadata": {
  "kernelspec": {
   "display_name": "Python 3",
   "language": "python",
   "name": "python3"
  },
  "language_info": {
   "codemirror_mode": {
    "name": "ipython",
    "version": 3
   },
   "file_extension": ".py",
   "mimetype": "text/x-python",
   "name": "python",
   "nbconvert_exporter": "python",
   "pygments_lexer": "ipython3",
   "version": "3.10.12"
  }
 },
 "nbformat": 4,
 "nbformat_minor": 2
}
